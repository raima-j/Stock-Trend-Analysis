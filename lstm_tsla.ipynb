{
  "nbformat": 4,
  "nbformat_minor": 0,
  "metadata": {
    "colab": {
      "provenance": []
    },
    "kernelspec": {
      "name": "python3",
      "display_name": "Python 3"
    },
    "language_info": {
      "name": "python"
    }
  },
  "cells": [
    {
      "cell_type": "code",
      "execution_count": null,
      "metadata": {
        "colab": {
          "base_uri": "https://localhost:8080/"
        },
        "id": "_sXnYGk2a-Of",
        "outputId": "cc965417-47c9-464d-9e31-1d178949fa3e"
      },
      "outputs": [
        {
          "output_type": "stream",
          "name": "stdout",
          "text": [
            "Mounted at /content/gdrive\n"
          ]
        }
      ],
      "source": [
        "from google.colab import drive\n",
        "drive.mount('/content/gdrive')"
      ]
    },
    {
      "cell_type": "code",
      "source": [
        "import pandas as pd\n",
        "import numpy as np\n",
        "import matplotlib.pyplot as plt\n",
        "import seaborn as sns\n",
        "from sklearn.preprocessing import MinMaxScaler\n",
        "from sklearn.metrics import mean_squared_error\n"
      ],
      "metadata": {
        "id": "UBNgHdIBnG79"
      },
      "execution_count": null,
      "outputs": []
    },
    {
      "cell_type": "code",
      "source": [
        "root_path ='gdrive/My Drive/Stocks Internship'"
      ],
      "metadata": {
        "id": "Sh1Hi4nzbPJc"
      },
      "execution_count": null,
      "outputs": []
    },
    {
      "cell_type": "code",
      "source": [
        "data = \"gdrive/My Drive/Stocks Internship/TSLA.csv\"\n",
        "file1 = open(data, \"r\")\n",
        "data= pd.read_csv(file1)\n",
        "data=pd.DataFrame(data)\n",
        "print (data)\n"
      ],
      "metadata": {
        "colab": {
          "base_uri": "https://localhost:8080/"
        },
        "id": "RGGwXoeVbSFg",
        "outputId": "0128cc8b-4667-492a-b1d0-8224756f0910"
      },
      "execution_count": null,
      "outputs": [
        {
          "output_type": "stream",
          "name": "stdout",
          "text": [
            "            Date     Close     Volume      Open      High       Low\n",
            "0     08/23/2023  236.8600  101077600  229.3400  238.9800  229.2900\n",
            "1     08/22/2023  233.1900  130597900  240.2500  240.8200  229.5500\n",
            "2     08/21/2023  231.2800  135702700  221.5512  232.1343  220.5800\n",
            "3     08/18/2023  215.4900  136276600  214.1200  217.5800  212.3600\n",
            "4     08/17/2023  219.2200  120718400  226.0600  226.7400  218.8300\n",
            "...          ...       ...        ...       ...       ...       ...\n",
            "1251  08/31/2018   20.1107   80505680   20.1333   20.3539   19.9067\n",
            "1252  08/30/2018   20.2100  108159321   20.1507   20.3067   19.8480\n",
            "1253  08/29/2018   20.3340  111158014   20.6847   20.7900   20.2460\n",
            "1254  08/28/2018   20.7907  114591738   21.2273   21.2587   20.7460\n",
            "1255  08/27/2018   21.2847  195939652   21.2000   21.4957   20.5873\n",
            "\n",
            "[1256 rows x 6 columns]\n"
          ]
        }
      ]
    },
    {
      "cell_type": "code",
      "source": [
        "data['Open-Close'] = data['Open'] - data['Close'].shift(1)\n",
        "\n",
        "data['Moving Avg']=data['Close'].rolling(5).mean()  #adding a moving average\n",
        "data['Daily Ret']=(data['Close']-data['Open'])/data['Open']*100\n",
        "\n",
        "print('\\nBefore normalizing data:\\n',data)\n",
        "data=data.dropna()\n",
        "data=data[::-1]\n",
        "data\n",
        "\n",
        "print (data.head(15))\n",
        "features=['Open','Close','Open-Close','Daily Ret', 'Moving Avg']\n",
        "X = data[features]\n",
        "\n",
        "data['Next_Day'] = (data['Close'].shift(-1))\n",
        "y = data['Next_Day'].values\n",
        "print (data)\n",
        "\n",
        "print (len(features))"
      ],
      "metadata": {
        "colab": {
          "base_uri": "https://localhost:8080/"
        },
        "id": "ZoI2yC7Ay8FV",
        "outputId": "0fb67221-5127-4a9b-c445-f27256ed6201"
      },
      "execution_count": null,
      "outputs": [
        {
          "output_type": "stream",
          "name": "stdout",
          "text": [
            "\n",
            "Before normalizing data:\n",
            "             Date     Close     Volume      Open      High       Low  \\\n",
            "0     08/23/2023  236.8600  101077600  229.3400  238.9800  229.2900   \n",
            "1     08/22/2023  233.1900  130597900  240.2500  240.8200  229.5500   \n",
            "2     08/21/2023  231.2800  135702700  221.5512  232.1343  220.5800   \n",
            "3     08/18/2023  215.4900  136276600  214.1200  217.5800  212.3600   \n",
            "4     08/17/2023  219.2200  120718400  226.0600  226.7400  218.8300   \n",
            "...          ...       ...        ...       ...       ...       ...   \n",
            "1251  08/31/2018   20.1107   80505680   20.1333   20.3539   19.9067   \n",
            "1252  08/30/2018   20.2100  108159321   20.1507   20.3067   19.8480   \n",
            "1253  08/29/2018   20.3340  111158014   20.6847   20.7900   20.2460   \n",
            "1254  08/28/2018   20.7907  114591738   21.2273   21.2587   20.7460   \n",
            "1255  08/27/2018   21.2847  195939652   21.2000   21.4957   20.5873   \n",
            "\n",
            "      Open-Close  Moving Avg  Daily Ret  \n",
            "0            NaN         NaN   3.278974  \n",
            "1         3.3900         NaN  -2.938606  \n",
            "2       -11.6388         NaN   4.391220  \n",
            "3       -17.1600         NaN   0.639828  \n",
            "4        10.5700   227.20800  -3.025745  \n",
            "...          ...         ...        ...  \n",
            "1251      0.8700    18.87386  -0.112252  \n",
            "1252      0.0400    19.40600   0.294283  \n",
            "1253      0.4747    19.72680  -1.695456  \n",
            "1254      0.8933    20.14174  -2.056785  \n",
            "1255      0.4093    20.54602   0.399528  \n",
            "\n",
            "[1256 rows x 9 columns]\n",
            "            Date    Close     Volume     Open     High      Low  Open-Close  \\\n",
            "1255  08/27/2018  21.2847  195939652  21.2000  21.4957  20.5873      0.4093   \n",
            "1254  08/28/2018  20.7907  114591738  21.2273  21.2587  20.7460      0.8933   \n",
            "1253  08/29/2018  20.3340  111158014  20.6847  20.7900  20.2460      0.4747   \n",
            "1252  08/30/2018  20.2100  108159321  20.1507  20.3067  19.8480      0.0400   \n",
            "1251  08/31/2018  20.1107   80505680  20.1333  20.3539  19.9067      0.8700   \n",
            "1250  09-04-2018  19.2633  124568503  19.7960  19.8793  19.2000      1.0800   \n",
            "1249  09-05-2018  18.7160  115610072  19.0033  19.1187  18.4787      0.2733   \n",
            "1248  09-06-2018  18.7300  112091284  18.9867  19.4113  18.5920      1.4374   \n",
            "1247  09-07-2018  17.5493  336634482  17.3400  17.8900  16.8170     -1.6933   \n",
            "1246  09-10-2018  19.0333  213483643  18.2173  19.0687  18.0667     -0.4120   \n",
            "1245  09-11-2018  18.6293  137415846  18.6313  18.8000  18.2367     -0.7380   \n",
            "1244  09-12-2018  19.3693  150032175  18.7627  19.5000  18.5764     -0.5346   \n",
            "1243  09/13/2018  19.2973   94999168  19.2013  19.6667  19.0120     -0.4787   \n",
            "1242  09/14/2018  19.6800  101364729  19.2507  19.8217  19.1013     -0.4053   \n",
            "1241  09/17/2018  19.6560  102993069  19.3360  20.0580  19.2087      0.3387   \n",
            "\n",
            "      Moving Avg  Daily Ret  \n",
            "1255    20.54602   0.399528  \n",
            "1254    20.14174  -2.056785  \n",
            "1253    19.72680  -1.695456  \n",
            "1252    19.40600   0.294283  \n",
            "1251    18.87386  -0.112252  \n",
            "1250    18.65838  -2.690948  \n",
            "1249    18.53158  -1.511843  \n",
            "1248    18.66224  -1.351999  \n",
            "1247    18.77570   1.207036  \n",
            "1246    19.20184   4.479259  \n",
            "1245    19.32638  -0.010735  \n",
            "1244    19.39998   3.233010  \n",
            "1243    19.51306   0.499966  \n",
            "1242    19.63134   2.230049  \n",
            "1241    19.68334   1.654944  \n",
            "            Date     Close     Volume      Open      High       Low  \\\n",
            "1255  08/27/2018   21.2847  195939652   21.2000   21.4957   20.5873   \n",
            "1254  08/28/2018   20.7907  114591738   21.2273   21.2587   20.7460   \n",
            "1253  08/29/2018   20.3340  111158014   20.6847   20.7900   20.2460   \n",
            "1252  08/30/2018   20.2100  108159321   20.1507   20.3067   19.8480   \n",
            "1251  08/31/2018   20.1107   80505680   20.1333   20.3539   19.9067   \n",
            "...          ...       ...        ...       ...       ...       ...   \n",
            "8     08-11-2023  242.6500   99038640  241.7700  243.7900  238.0200   \n",
            "7     08/14/2023  239.7600   98595330  235.7000  240.6600  233.7500   \n",
            "6     08/15/2023  232.9600   88197600  238.7300  240.5000  232.6100   \n",
            "5     08/16/2023  225.6000  112484500  228.0200  233.9700  225.3800   \n",
            "4     08/17/2023  219.2200  120718400  226.0600  226.7400  218.8300   \n",
            "\n",
            "      Open-Close  Moving Avg  Daily Ret  Next_Day  \n",
            "1255      0.4093    20.54602   0.399528   20.7907  \n",
            "1254      0.8933    20.14174  -2.056785   20.3340  \n",
            "1253      0.4747    19.72680  -1.695456   20.2100  \n",
            "1252      0.0400    19.40600   0.294283   20.1107  \n",
            "1251      0.8700    18.87386  -0.112252   19.2633  \n",
            "...          ...         ...        ...       ...  \n",
            "8         2.0100   232.03800   0.363982  239.7600  \n",
            "7         2.7400   226.60600   1.722529  232.9600  \n",
            "6        13.1300   224.91000  -2.416956  225.6000  \n",
            "5         8.8000   224.95600  -1.061310  219.2200  \n",
            "4        10.5700   227.20800  -3.025745       NaN  \n",
            "\n",
            "[1252 rows x 10 columns]\n",
            "5\n"
          ]
        }
      ]
    },
    {
      "cell_type": "code",
      "source": [
        "def dataset_lstm(data,look_back):\n",
        "  data_x,data_y=[],[]\n",
        "  dates_list=[]\n",
        " #data = data.dropna()\n",
        "  for i in range(len(data)-look_back):\n",
        "    dates_list.append(data['Date'][i:i + look_back])\n",
        "    sequence_x = X[i:i + look_back]\n",
        "    data_x.append(sequence_x.values)\n",
        "    data_y.append(y[i + look_back])\n",
        "  return np.array(data_x),np.array(data_y),dates_list\n",
        "\n",
        "\n",
        "look_back=60\n",
        "data_x,data_y,dates_list=dataset_lstm(data,look_back)\n",
        "print (data_x,'\\n', data_y)\n",
        "print (len(data_x),len(data_y))"
      ],
      "metadata": {
        "colab": {
          "base_uri": "https://localhost:8080/"
        },
        "id": "cpup17rioRsl",
        "outputId": "63468062-17ae-42ad-9764-e736feede33b"
      },
      "execution_count": null,
      "outputs": [
        {
          "output_type": "stream",
          "name": "stdout",
          "text": [
            "[[[ 2.12000000e+01  2.12847000e+01  4.09300000e-01  3.99528302e-01\n",
            "    2.05460200e+01]\n",
            "  [ 2.12273000e+01  2.07907000e+01  8.93300000e-01 -2.05678537e+00\n",
            "    2.01417400e+01]\n",
            "  [ 2.06847000e+01  2.03340000e+01  4.74700000e-01 -1.69545606e+00\n",
            "    1.97268000e+01]\n",
            "  ...\n",
            "  [ 2.28220000e+01  2.32293000e+01 -7.98700000e-01  1.78468145e+00\n",
            "    2.32253400e+01]\n",
            "  [ 2.30127000e+01  2.36207000e+01 -5.52000000e-01  2.64201941e+00\n",
            "    2.29238800e+01]\n",
            "  [ 2.37560000e+01  2.35647000e+01  5.90000000e-01 -8.05270248e-01\n",
            "    2.28130800e+01]]\n",
            "\n",
            " [[ 2.12273000e+01  2.07907000e+01  8.93300000e-01 -2.05678537e+00\n",
            "    2.01417400e+01]\n",
            "  [ 2.06847000e+01  2.03340000e+01  4.74700000e-01 -1.69545606e+00\n",
            "    1.97268000e+01]\n",
            "  [ 2.01507000e+01  2.02100000e+01  4.00000000e-02  2.94282581e-01\n",
            "    1.94060000e+01]\n",
            "  ...\n",
            "  [ 2.30127000e+01  2.36207000e+01 -5.52000000e-01  2.64201941e+00\n",
            "    2.29238800e+01]\n",
            "  [ 2.37560000e+01  2.35647000e+01  5.90000000e-01 -8.05270248e-01\n",
            "    2.28130800e+01]\n",
            "  [ 2.27833000e+01  2.31660000e+01  2.37300000e-01  1.67973911e+00\n",
            "    2.26857400e+01]]\n",
            "\n",
            " [[ 2.06847000e+01  2.03340000e+01  4.74700000e-01 -1.69545606e+00\n",
            "    1.97268000e+01]\n",
            "  [ 2.01507000e+01  2.02100000e+01  4.00000000e-02  2.94282581e-01\n",
            "    1.94060000e+01]\n",
            "  [ 2.01333000e+01  2.01107000e+01  8.70000000e-01 -1.12251841e-01\n",
            "    1.88738600e+01]\n",
            "  ...\n",
            "  [ 2.37560000e+01  2.35647000e+01  5.90000000e-01 -8.05270248e-01\n",
            "    2.28130800e+01]\n",
            "  [ 2.27833000e+01  2.31660000e+01  2.37300000e-01  1.67973911e+00\n",
            "    2.26857400e+01]\n",
            "  [ 2.34667000e+01  2.25460000e+01  1.74470000e+00 -3.92343193e+00\n",
            "    2.26908000e+01]]\n",
            "\n",
            " ...\n",
            "\n",
            " [[ 1.74220000e+02  1.76890000e+02 -5.92000000e+00  1.53254506e+00\n",
            "    1.82914000e+02]\n",
            "  [ 1.77170000e+02  1.80140000e+02 -1.17000000e+01  1.67635604e+00\n",
            "    1.84430000e+02]\n",
            "  [ 1.80700000e+02  1.88870000e+02 -5.07000000e+00  4.52130603e+00\n",
            "    1.87036000e+02]\n",
            "  ...\n",
            "  [ 2.45400000e+02  2.45340000e+02  2.75000000e+00 -2.44498778e-02\n",
            "    2.37262000e+02]\n",
            "  [ 2.41770000e+02  2.42650000e+02  2.01000000e+00  3.63982297e-01\n",
            "    2.32038000e+02]\n",
            "  [ 2.35700000e+02  2.39760000e+02  2.74000000e+00  1.72252864e+00\n",
            "    2.26606000e+02]]\n",
            "\n",
            " [[ 1.77170000e+02  1.80140000e+02 -1.17000000e+01  1.67635604e+00\n",
            "    1.84430000e+02]\n",
            "  [ 1.80700000e+02  1.88870000e+02 -5.07000000e+00  4.52130603e+00\n",
            "    1.87036000e+02]\n",
            "  [ 1.86200000e+02  1.85770000e+02  3.30000000e+00 -2.30934479e-01\n",
            "    1.89494000e+02]\n",
            "  ...\n",
            "  [ 2.41770000e+02  2.42650000e+02  2.01000000e+00  3.63982297e-01\n",
            "    2.32038000e+02]\n",
            "  [ 2.35700000e+02  2.39760000e+02  2.74000000e+00  1.72252864e+00\n",
            "    2.26606000e+02]\n",
            "  [ 2.38730000e+02  2.32960000e+02  1.31300000e+01 -2.41695639e+00\n",
            "    2.24910000e+02]]\n",
            "\n",
            " [[ 1.80700000e+02  1.88870000e+02 -5.07000000e+00  4.52130603e+00\n",
            "    1.87036000e+02]\n",
            "  [ 1.86200000e+02  1.85770000e+02  3.30000000e+00 -2.30934479e-01\n",
            "    1.89494000e+02]\n",
            "  [ 1.82230000e+02  1.82900000e+02 -2.24000000e+00  3.67667234e-01\n",
            "    1.93126000e+02]\n",
            "  ...\n",
            "  [ 2.35700000e+02  2.39760000e+02  2.74000000e+00  1.72252864e+00\n",
            "    2.26606000e+02]\n",
            "  [ 2.38730000e+02  2.32960000e+02  1.31300000e+01 -2.41695639e+00\n",
            "    2.24910000e+02]\n",
            "  [ 2.28020000e+02  2.25600000e+02  8.80000000e+00 -1.06131041e+00\n",
            "    2.24956000e+02]]] \n",
            " [ 22.546   21.722   23.0667 ... 225.6    219.22        nan]\n",
            "1192 1192\n"
          ]
        }
      ]
    },
    {
      "cell_type": "code",
      "source": [
        "split = int(0.8*len(data))\n",
        "X_train, X_test, y_train, y_test = data_x[:split], data_x[split:], data_y[:split], data_y[split:]\n",
        "\n",
        "X_train_flat = X_train.reshape(-1, X_train.shape[-1])\n",
        "X_test_flat=X_test.reshape(-1,X_test.shape[-1])\n",
        "\n",
        "scaler = MinMaxScaler()\n",
        "X_train_scaled = scaler.fit_transform(X_train_flat)\n",
        "X_train_scaled = X_train_scaled.reshape(X_train.shape)\n",
        "\n",
        "X_test_scaled = scaler.transform(X_test_flat)\n",
        "X_test_scaled=X_test_scaled.reshape(X_test.shape)\n",
        "\n",
        "y_train_scaled = scaler.fit_transform(y_train.reshape(-1, 1))\n",
        "y_test_scaled = scaler.transform(y_test.reshape(-1, 1))\n",
        "print ((X_train_scaled))\n",
        "print ((y_train_scaled))\n",
        "print (len(X_test_scaled))\n",
        "print (len(y_test_scaled))\n"
      ],
      "metadata": {
        "colab": {
          "base_uri": "https://localhost:8080/"
        },
        "id": "lHiz7PfQRIw4",
        "outputId": "daa35d33-7a90-42c8-86bd-5e535af06bb4"
      },
      "execution_count": null,
      "outputs": [
        {
          "output_type": "stream",
          "name": "stdout",
          "text": [
            "[[[0.02285122 0.02349872 0.51081734 0.46164864 0.02081961]\n",
            "  [0.02291957 0.02225763 0.5164971  0.37567304 0.01978481]\n",
            "  [0.02156102 0.02111026 0.51158481 0.38832025 0.01872273]\n",
            "  ...\n",
            "  [0.02691234 0.02838417 0.49664144 0.5101316  0.02767763]\n",
            "  [0.02738981 0.0293675  0.49953647 0.54014005 0.02690601]\n",
            "  [0.02925087 0.02922681 0.51293786 0.41947842 0.0266224 ]]\n",
            "\n",
            " [[0.02291957 0.02225763 0.5164971  0.37567304 0.01978481]\n",
            "  [0.02156102 0.02111026 0.51158481 0.38832025 0.01872273]\n",
            "  [0.020224   0.02079873 0.5064836  0.45796484 0.01790161]\n",
            "  ...\n",
            "  [0.02738981 0.0293675  0.49953647 0.54014005 0.02690601]\n",
            "  [0.02925087 0.02922681 0.51293786 0.41947842 0.0266224 ]\n",
            "  [0.02681544 0.02822514 0.50879892 0.50645843 0.02629646]]\n",
            "\n",
            " [[0.02156102 0.02111026 0.51158481 0.38832025 0.01872273]\n",
            "  [0.020224   0.02079873 0.5064836  0.45796484 0.01790161]\n",
            "  [0.02018044 0.02054926 0.51622367 0.44373537 0.01653953]\n",
            "  ...\n",
            "  [0.02925087 0.02922681 0.51293786 0.41947842 0.0266224 ]\n",
            "  [0.02681544 0.02822514 0.50879892 0.50645843 0.02629646]\n",
            "  [0.02852653 0.02666751 0.52648829 0.3103369  0.02630941]]\n",
            "\n",
            " ...\n",
            "\n",
            " [[0.7253773  0.74713514 0.44995951 0.53503845 0.74605254]\n",
            "  [0.75011461 0.74020943 0.59602183 0.39035152 0.73611783]\n",
            "  [0.72940838 0.73376106 0.51219386 0.4545864  0.7309423 ]\n",
            "  ...\n",
            "  [0.49896932 0.51095208 0.55166344 0.51307764 0.47439269]\n",
            "  [0.52711177 0.4912555  0.80549199 0.20975853 0.46180453]\n",
            "  [0.49218409 0.46515251 0.70961685 0.25357297 0.45591742]]\n",
            "\n",
            " [[0.75011461 0.74020943 0.59602183 0.39035152 0.73611783]\n",
            "  [0.72940838 0.73376106 0.51219386 0.4545864  0.7309423 ]\n",
            "  [0.73592671 0.73093069 0.61554186 0.41186182 0.72741003]\n",
            "  ...\n",
            "  [0.52711177 0.4912555  0.80549199 0.20975853 0.46180453]\n",
            "  [0.49218409 0.46515251 0.70961685 0.25357297 0.45591742]\n",
            "  [0.45555384 0.45063131 0.69882063 0.39859465 0.45277934]]\n",
            "\n",
            " [[0.72940838 0.73376106 0.51219386 0.4545864  0.7309423 ]\n",
            "  [0.73592671 0.73093069 0.61554186 0.41186182 0.72741003]\n",
            "  [0.71840028 0.71534577 0.61264683 0.42034888 0.72392896]\n",
            "  ...\n",
            "  [0.49218409 0.46515251 0.70961685 0.25357297 0.45591742]\n",
            "  [0.45555384 0.45063131 0.69882063 0.39859465 0.45277934]\n",
            "  [0.44742908 0.41618742 0.50665963 0.20575649 0.45437654]]]\n",
            "[[0.02666751]\n",
            " [0.02459736]\n",
            " [0.02797567]\n",
            " ...\n",
            " [0.41618742]\n",
            " [0.44917416]\n",
            " [0.46236384]]\n",
            "191\n",
            "191\n"
          ]
        }
      ]
    },
    {
      "cell_type": "code",
      "source": [
        "from keras.models import Sequential\n",
        "from keras.layers import LSTM,Dense\n",
        "\n",
        "model=Sequential()\n",
        "model.add(LSTM(units=50,input_shape=(look_back,len(features))))\n",
        "model.add(Dense(units=1))"
      ],
      "metadata": {
        "id": "l-a538Iv_sH9"
      },
      "execution_count": null,
      "outputs": []
    },
    {
      "cell_type": "code",
      "source": [
        "model.compile(loss='mean_squared_error',optimizer='adam')\n",
        "\n",
        "model.fit(X_train_scaled,y_train_scaled,epochs=50,batch_size=32,verbose=1)"
      ],
      "metadata": {
        "colab": {
          "base_uri": "https://localhost:8080/"
        },
        "id": "DhioTlWSQ1zE",
        "outputId": "6b7388d4-721c-41db-be5d-b3f0a2f08761"
      },
      "execution_count": null,
      "outputs": [
        {
          "output_type": "stream",
          "name": "stdout",
          "text": [
            "Epoch 1/50\n",
            "32/32 [==============================] - 4s 43ms/step - loss: 0.0836\n",
            "Epoch 2/50\n",
            "32/32 [==============================] - 1s 42ms/step - loss: 0.0026\n",
            "Epoch 3/50\n",
            "32/32 [==============================] - 1s 34ms/step - loss: 0.0014\n",
            "Epoch 4/50\n",
            "32/32 [==============================] - 1s 26ms/step - loss: 0.0012\n",
            "Epoch 5/50\n",
            "32/32 [==============================] - 1s 26ms/step - loss: 0.0011\n",
            "Epoch 6/50\n",
            "32/32 [==============================] - 1s 25ms/step - loss: 9.0336e-04\n",
            "Epoch 7/50\n",
            "32/32 [==============================] - 1s 25ms/step - loss: 8.7242e-04\n",
            "Epoch 8/50\n",
            "32/32 [==============================] - 1s 26ms/step - loss: 7.7371e-04\n",
            "Epoch 9/50\n",
            "32/32 [==============================] - 1s 26ms/step - loss: 6.8283e-04\n",
            "Epoch 10/50\n",
            "32/32 [==============================] - 1s 26ms/step - loss: 6.7236e-04\n",
            "Epoch 11/50\n",
            "32/32 [==============================] - 1s 27ms/step - loss: 6.5225e-04\n",
            "Epoch 12/50\n",
            "32/32 [==============================] - 1s 26ms/step - loss: 6.2694e-04\n",
            "Epoch 13/50\n",
            "32/32 [==============================] - 1s 26ms/step - loss: 6.0322e-04\n",
            "Epoch 14/50\n",
            "32/32 [==============================] - 1s 26ms/step - loss: 5.8223e-04\n",
            "Epoch 15/50\n",
            "32/32 [==============================] - 1s 33ms/step - loss: 5.7946e-04\n",
            "Epoch 16/50\n",
            "32/32 [==============================] - 1s 43ms/step - loss: 5.7283e-04\n",
            "Epoch 17/50\n",
            "32/32 [==============================] - 1s 43ms/step - loss: 5.5321e-04\n",
            "Epoch 18/50\n",
            "32/32 [==============================] - 1s 41ms/step - loss: 5.3843e-04\n",
            "Epoch 19/50\n",
            "32/32 [==============================] - 1s 27ms/step - loss: 5.5539e-04\n",
            "Epoch 20/50\n",
            "32/32 [==============================] - 1s 26ms/step - loss: 5.3458e-04\n",
            "Epoch 21/50\n",
            "32/32 [==============================] - 1s 26ms/step - loss: 5.1853e-04\n",
            "Epoch 22/50\n",
            "32/32 [==============================] - 1s 28ms/step - loss: 5.0025e-04\n",
            "Epoch 23/50\n",
            "32/32 [==============================] - 1s 27ms/step - loss: 5.2562e-04\n",
            "Epoch 24/50\n",
            "32/32 [==============================] - 1s 26ms/step - loss: 6.0726e-04\n",
            "Epoch 25/50\n",
            "32/32 [==============================] - 1s 25ms/step - loss: 5.4083e-04\n",
            "Epoch 26/50\n",
            "32/32 [==============================] - 1s 27ms/step - loss: 4.9239e-04\n",
            "Epoch 27/50\n",
            "32/32 [==============================] - 1s 26ms/step - loss: 5.3765e-04\n",
            "Epoch 28/50\n",
            "32/32 [==============================] - 1s 26ms/step - loss: 4.6908e-04\n",
            "Epoch 29/50\n",
            "32/32 [==============================] - 1s 26ms/step - loss: 4.8856e-04\n",
            "Epoch 30/50\n",
            "32/32 [==============================] - 1s 27ms/step - loss: 4.6578e-04\n",
            "Epoch 31/50\n",
            "32/32 [==============================] - 1s 43ms/step - loss: 4.6186e-04\n",
            "Epoch 32/50\n",
            "32/32 [==============================] - 1s 41ms/step - loss: 4.4915e-04\n",
            "Epoch 33/50\n",
            "32/32 [==============================] - 1s 42ms/step - loss: 5.2761e-04\n",
            "Epoch 34/50\n",
            "32/32 [==============================] - 1s 35ms/step - loss: 4.3733e-04\n",
            "Epoch 35/50\n",
            "32/32 [==============================] - 1s 26ms/step - loss: 4.0393e-04\n",
            "Epoch 36/50\n",
            "32/32 [==============================] - 1s 26ms/step - loss: 4.8357e-04\n",
            "Epoch 37/50\n",
            "32/32 [==============================] - 1s 25ms/step - loss: 4.7841e-04\n",
            "Epoch 38/50\n",
            "32/32 [==============================] - 1s 26ms/step - loss: 4.0055e-04\n",
            "Epoch 39/50\n",
            "32/32 [==============================] - 1s 25ms/step - loss: 4.3415e-04\n",
            "Epoch 40/50\n",
            "32/32 [==============================] - 1s 26ms/step - loss: 4.0980e-04\n",
            "Epoch 41/50\n",
            "32/32 [==============================] - 1s 25ms/step - loss: 4.4313e-04\n",
            "Epoch 42/50\n",
            "32/32 [==============================] - 1s 26ms/step - loss: 3.8397e-04\n",
            "Epoch 43/50\n",
            "32/32 [==============================] - 1s 26ms/step - loss: 3.8346e-04\n",
            "Epoch 44/50\n",
            "32/32 [==============================] - 1s 26ms/step - loss: 3.8043e-04\n",
            "Epoch 45/50\n",
            "32/32 [==============================] - 1s 26ms/step - loss: 3.6507e-04\n",
            "Epoch 46/50\n",
            "32/32 [==============================] - 1s 33ms/step - loss: 3.6434e-04\n",
            "Epoch 47/50\n",
            "32/32 [==============================] - 1s 42ms/step - loss: 3.5804e-04\n",
            "Epoch 48/50\n",
            "32/32 [==============================] - 1s 43ms/step - loss: 3.6040e-04\n",
            "Epoch 49/50\n",
            "32/32 [==============================] - 1s 43ms/step - loss: 3.5246e-04\n",
            "Epoch 50/50\n",
            "32/32 [==============================] - 1s 29ms/step - loss: 3.5934e-04\n"
          ]
        },
        {
          "output_type": "execute_result",
          "data": {
            "text/plain": [
              "<keras.src.callbacks.History at 0x7e886835ead0>"
            ]
          },
          "metadata": {},
          "execution_count": 10
        }
      ]
    },
    {
      "cell_type": "code",
      "source": [
        "predictions = model.predict(X_test_scaled)\n",
        "predictions = scaler.inverse_transform(predictions)\n",
        "\n",
        "# Plot the actual and predicted stock price directions\n",
        "plt.figure(figsize=(12, 6))\n",
        "plt.plot(y_test, label='Actual', color='blue')\n",
        "plt.plot(predictions, label='Predicted', color='red')\n",
        "plt.title('Stock Price Direction Prediction')\n",
        "plt.xlabel('Time Steps')\n",
        "plt.ylabel('Close Prices')\n",
        "plt.legend()\n",
        "plt.show()"
      ],
      "metadata": {
        "colab": {
          "base_uri": "https://localhost:8080/"
        },
        "id": "v9FJfYwDbT4J",
        "outputId": "da222e1e-d442-452d-d5de-6ce278623530"
      },
      "execution_count": null,
      "outputs": [
        {
          "output_type": "stream",
          "name": "stdout",
          "text": [
            "6/6 [==============================] - 0s 12ms/step\n"
          ]
        },
        {
          "output_type": "display_data",
          "data": {
            "text/plain": [
              "<Figure size 1200x600 with 1 Axes>"
            ],
            "image/png": "[encoded data removed]"
          },
          "metadata": {}
        }
      ]
    }
  ]
}